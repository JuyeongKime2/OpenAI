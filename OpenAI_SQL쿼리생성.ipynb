{
  "nbformat": 4,
  "nbformat_minor": 0,
  "metadata": {
    "colab": {
      "private_outputs": true,
      "provenance": [],
      "mount_file_id": "1xyBNeAb1VDMm2jFt4q_Y8sizhvByvkqt",
      "authorship_tag": "ABX9TyPKIsi4hIpeN8EdjfMqafLn",
      "include_colab_link": true
    },
    "kernelspec": {
      "name": "python3",
      "display_name": "Python 3"
    },
    "language_info": {
      "name": "python"
    }
  },
  "cells": [
    {
      "cell_type": "markdown",
      "metadata": {
        "id": "view-in-github",
        "colab_type": "text"
      },
      "source": [
        "<a href=\"https://colab.research.google.com/github/JuyeongKime2/OpenAI/blob/main/OpenAI_SQL%EC%BF%BC%EB%A6%AC%EC%83%9D%EC%84%B1.ipynb\" target=\"_parent\"><img src=\"https://colab.research.google.com/assets/colab-badge.svg\" alt=\"Open In Colab\"/></a>"
      ]
    },
    {
      "cell_type": "markdown",
      "source": [
        "**1. 라이브러리 불러오기**\n",
        "(주피터 실습이므로 코드는 변경)"
      ],
      "metadata": {
        "id": "L5qK7CIKUnXv"
      }
    },
    {
      "cell_type": "code",
      "execution_count": null,
      "metadata": {
        "id": "bQiQos9vTqvs"
      },
      "outputs": [],
      "source": [
        "!pip install openai #패키지설치"
      ]
    },
    {
      "cell_type": "code",
      "source": [
        "#패키지 불러오기\n",
        "import pandas as pd\n",
        "import os\n",
        "from openai import OpenAI"
      ],
      "metadata": {
        "id": "t02Xo-vBT4Um"
      },
      "execution_count": null,
      "outputs": []
    },
    {
      "cell_type": "code",
      "source": [
        "!pip list #설치된 패키지 확인"
      ],
      "metadata": {
        "id": "z7bAvZLmUNH8"
      },
      "execution_count": null,
      "outputs": []
    },
    {
      "cell_type": "markdown",
      "source": [
        "**2. 데이터 불러오기**\n",
        "\n",
        "```\n",
        "# 주피터로 실행 시 코드\n",
        "df=pd.read_excel(\"AdidasSalesdata 2.xlsx\")\n",
        "df.head(5)\n",
        "```\n",
        "\n"
      ],
      "metadata": {
        "id": "0_sZSwpxUs0c"
      }
    },
    {
      "cell_type": "code",
      "source": [
        "#Google Colab에서 업로드한 .xlsx 데이터셋을 읽기위한 패키지\n",
        "!pip install pandas openpyxl"
      ],
      "metadata": {
        "id": "xWbLSkv-qDpc"
      },
      "execution_count": null,
      "outputs": []
    },
    {
      "cell_type": "code",
      "source": [
        "#.xlsx 파일을 선택하여 업로드\n",
        "from google.colab import files\n",
        "uploaded = files.upload()"
      ],
      "metadata": {
        "id": "258S3HztqOPn"
      },
      "execution_count": null,
      "outputs": []
    },
    {
      "cell_type": "code",
      "source": [
        "#업로드된 파일의 이름 가져오기\n",
        "file_name = list(uploaded.keys())[0]\n",
        "\n",
        "#pandas를 사용하여 엑셀 파일 읽기\n",
        "df=pd.read_excel(file_name)\n",
        "\n",
        "#데이터 프레임 출력\n",
        "df.head(10) #tail(끝부터)"
      ],
      "metadata": {
        "id": "byBnrF2UVAGa"
      },
      "execution_count": null,
      "outputs": []
    },
    {
      "cell_type": "code",
      "source": [
        "df.columns #띄어쓰기 되어있음"
      ],
      "metadata": {
        "id": "Z6z9JYGqq-Qc"
      },
      "execution_count": null,
      "outputs": []
    },
    {
      "cell_type": "code",
      "source": [
        "#공백을 언더바로 변경\n",
        "df.columns = df.columns.str.replace(' ','_')\n",
        "df.columns\n",
        "\n",
        "#예시: df.columns=[col.replace(' ', '_') for col df.columns]"
      ],
      "metadata": {
        "id": "bqYctVcxIfFH"
      },
      "execution_count": null,
      "outputs": []
    },
    {
      "cell_type": "markdown",
      "source": [
        "2.1 데이터 확인하기\n",
        "\n",
        "> groupby를 활용해서 데이터를 확인하는 것이 기초적인 데이터 분석의 방법\n",
        "\n"
      ],
      "metadata": {
        "id": "8UJjBoe_UvSM"
      }
    },
    {
      "cell_type": "code",
      "source": [
        "#각 Region별로 total sales의 sum을 출력(sum of sales by region)\n",
        "#df.groupby('Region')['Total_Sales'].sum() #오름차순\n",
        "#df.groupby('Region').sum()['Total_Sales']\n",
        "df.groupby('Region')['Total_Sales'].sum().sort_values(ascending=False) #내림차순으로\n"
      ],
      "metadata": {
        "id": "CsdyUQv9VAmj"
      },
      "execution_count": null,
      "outputs": []
    },
    {
      "cell_type": "markdown",
      "source": [
        "**3. SQL Database 셋팅하기**"
      ],
      "metadata": {
        "id": "ffwsGzeYU7XU"
      }
    },
    {
      "cell_type": "code",
      "source": [
        "#패키지 설치\n",
        "from sqlalchemy import create_engine #임시 데이터베이스(DB) 생성 패키지\n",
        "from sqlalchemy import text #쿼리생성 패키지"
      ],
      "metadata": {
        "id": "f0GjbxqAUhuK"
      },
      "execution_count": null,
      "outputs": []
    },
    {
      "cell_type": "code",
      "source": [
        "# 임시 SQLite 데이터베이스 생성\n",
        "temp_db = create_engine('sqlite:///:memory:', echo=True) #in-house db 또는 temp db"
      ],
      "metadata": {
        "id": "pcpQ9KxnPvmE"
      },
      "execution_count": null,
      "outputs": []
    },
    {
      "cell_type": "code",
      "source": [
        "#데이터프레임을 'Sales' 테이블로 저장, Connection은 temp db로 지정\n",
        "data=df.to_sql(name='Sales', con=temp_db) #데이터베이스 연결 객체 생성"
      ],
      "metadata": {
        "id": "bKNgXV5SQLIY"
      },
      "execution_count": null,
      "outputs": []
    },
    {
      "cell_type": "code",
      "source": [
        "#Temp DB를 Connect 해서 Result에 담기\n",
        "with temp_db.connect() as conn:\n",
        "  #Total sales가 가장 높은 Descending order로 하고 하나만 출력\n",
        "    result = conn.execute(text(\"SELECT Retailer,City, Total_Sales,Operating_Profit from Sales ORDER BY Total_Sales DESC LIMIT 1\"))"
      ],
      "metadata": {
        "id": "kV-9Z7qPWdYG"
      },
      "execution_count": null,
      "outputs": []
    },
    {
      "cell_type": "code",
      "source": [
        "result.all() #결과 출력 : 올마트 올랜도가 total sales 가장 높음"
      ],
      "metadata": {
        "id": "_vVxk1KiXmnI"
      },
      "execution_count": null,
      "outputs": []
    },
    {
      "cell_type": "markdown",
      "source": [
        "**4. OpenAI 셋팅**\n"
      ],
      "metadata": {
        "id": "aTkypEzAiVhp"
      }
    },
    {
      "cell_type": "markdown",
      "source": [
        "4.1 API 사용을 위한 Key 입력 및 셋팅"
      ],
      "metadata": {
        "id": "de0BIWcPiZls"
      }
    },
    {
      "cell_type": "code",
      "source": [
        "#key를 OSNR에 담기\n",
        "os.environ['OPENAI_API_KEY']='MY_API_KEY'\n",
        "client=OpenAI()"
      ],
      "metadata": {
        "id": "k_zMvDU9ibyE"
      },
      "execution_count": null,
      "outputs": []
    },
    {
      "cell_type": "code",
      "source": [
        "#GPT 한테 우리가 다루는 데이터,테이블이 어떤 구조인지 알려주는 함수\n",
        "#table_definition_prompt함수 정의\n",
        "def table_definition_prompt(df):\n",
        "\n",
        "##GPT 모델에게 columns 알려주기\n",
        "#앞으로 생성할 쿼리는 이 테이블 구조에 바탕이 된 내용으로 작성하라는 명령\n",
        "    prompt = \"\"\"Given the following sqlite SQL definition,\n",
        "                 write queries based on the request\n",
        "                 \\n### sqlite SQL table, with its properities(columns):\n",
        "    #\n",
        "    # Sales({})\n",
        "    #\n",
        "    \"\"\".format(\",\".join(str(x) for x in df.columns))\n",
        "\n",
        "    return prompt\n",
        ""
      ],
      "metadata": {
        "id": "BSr9NUu4itEk"
      },
      "execution_count": null,
      "outputs": []
    },
    {
      "cell_type": "code",
      "source": [
        "print(table_definition_prompt(df))"
      ],
      "metadata": {
        "id": "1TU72alokg7K"
      },
      "execution_count": null,
      "outputs": []
    },
    {
      "cell_type": "code",
      "source": [
        "#사용자로부터 어떤걸 확인하고 싶은지 받는 내용의 함수\n",
        "def prompt_input():\n",
        "  nlp_text=input(\"질의 하고자하는 내용을 입력해주세요\")\n",
        "  return nlp_text"
      ],
      "metadata": {
        "id": "2xzqZYauk9g0"
      },
      "execution_count": null,
      "outputs": []
    },
    {
      "cell_type": "code",
      "source": [
        "nlp_text= prompt_input() #사용자로부터 받은 내용 저장"
      ],
      "metadata": {
        "id": "ixtfMFW8lUb6"
      },
      "execution_count": null,
      "outputs": []
    },
    {
      "cell_type": "code",
      "source": [
        "#테이블 구조를 알려주는 내용+실제로 궁금한 내용= Full prompt\n",
        "full_prompt = str(table_definition_prompt(df)) + str(nlp_text)  #데이터 타입을 문자열로 변환\n",
        "full_prompt"
      ],
      "metadata": {
        "id": "NGv1oMsnlsGP"
      },
      "execution_count": null,
      "outputs": []
    },
    {
      "cell_type": "markdown",
      "source": [
        "**4.2 API Call**\n",
        "\n",
        "(OpenAI API > Text genaration > Chat Completions 사용)"
      ],
      "metadata": {
        "id": "H3nmeIhrnKrC"
      }
    },
    {
      "cell_type": "code",
      "source": [
        "##오류 잡아야함\n",
        "response = client.chat.completions.create(\n",
        "    model=\"gpt-3.5-turbo\",\n",
        "    messages=[\n",
        "        {\"role\": \"system\", \"content\": \"You are an assistant that generates SQL queries based on the given SQLite table definition and a natural language request. The query should start with 'SELECT' and end with a semicolon(;).\"},\n",
        "         {\"role\": \"user\", \"content\": f\"A query to answer: {full_prompt}\"},\n",
        "    ],\n",
        "    #토큰의 최대 길이를 200으로 생성\n",
        "    max_tokens=200,\n",
        "    #생성되는 응답에 대한 창의성 (0~1 까지 지정)\n",
        "    temperature= 1.0,\n",
        "    #특정한 문자열이 들어오면 생성 종료\n",
        "    stop= None\n",
        ")\n",
        "# 응답 출력\n",
        "print(response)"
      ],
      "metadata": {
        "id": "Sqkdad2EnPcE"
      },
      "execution_count": null,
      "outputs": []
    },
    {
      "cell_type": "code",
      "source": [
        "response"
      ],
      "metadata": {
        "id": "Dax5TxuVzroW"
      },
      "execution_count": null,
      "outputs": []
    },
    {
      "cell_type": "code",
      "source": [
        "#필요한 부분만 추출\n",
        "response['choices'][0].message.content"
      ],
      "metadata": {
        "id": "pZI5TLpp0AVj"
      },
      "execution_count": null,
      "outputs": []
    },
    {
      "cell_type": "code",
      "source": [
        "#정교한 함수 처리(핸들링 하는 함수 생성)\n",
        "def handle_response(response):\n",
        "    query= response['choices'][0].message.content.strip()\n",
        "\n",
        "   #만약 쿼리가 selct로 시작을 안하면 select를 앞으로 붙여주기\n",
        "    if not query.upper().startswith('SELECT'):\n",
        "        query = 'SELECT ' + query\n",
        "  #만약 semi-colon으로 안끝나면 붙여주기\n",
        "    if not query.endswith(';'):\n",
        "        query = query + ';'\n",
        "\n",
        "    return query\n",
        "\n"
      ],
      "metadata": {
        "id": "NjN2yqDJ0Oed"
      },
      "execution_count": null,
      "outputs": []
    },
    {
      "cell_type": "code",
      "source": [
        "print(handle_response(response))"
      ],
      "metadata": {
        "id": "3AdhqWPP1HZf"
      },
      "execution_count": null,
      "outputs": []
    },
    {
      "cell_type": "markdown",
      "source": [
        " **4.2.1 Query를 DB에 입력해보자**"
      ],
      "metadata": {
        "id": "lS5Lfwj91wZm"
      }
    },
    {
      "cell_type": "code",
      "source": [
        "with temp_db.connect() as conn:\n",
        "  #Temp DB를 Connect 해서 Result에 담기\n",
        "    result = conn.execute(text(handle_response(response)))"
      ],
      "metadata": {
        "id": "mChxNQDG1sNQ"
      },
      "execution_count": null,
      "outputs": []
    }
  ]
}